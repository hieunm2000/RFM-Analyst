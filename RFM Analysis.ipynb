{
  "nbformat": 4,
  "nbformat_minor": 0,
  "metadata": {
    "colab": {
      "provenance": []
    },
    "kernelspec": {
      "name": "python3",
      "display_name": "Python 3"
    },
    "language_info": {
      "name": "python"
    }
  },
  "cells": [
    {
      "cell_type": "markdown",
      "source": [
        "# import df"
      ],
      "metadata": {
        "id": "5gN4oYBSePOe"
      }
    },
    {
      "cell_type": "code",
      "source": [
        "import io\n",
        "import pandas as pd\n",
        "import numpy as np\n",
        "import datetime as dt\n",
        "import matplotlib.pyplot as plt\n",
        "import seaborn as sns"
      ],
      "metadata": {
        "id": "9RCm3tu7eSRI"
      },
      "execution_count": null,
      "outputs": []
    },
    {
      "cell_type": "markdown",
      "source": [
        "# Import các file"
      ],
      "metadata": {
        "id": "gkDvxbb5edvG"
      }
    },
    {
      "cell_type": "code",
      "source": [
        "from google.colab import files\n",
        "uploaded = files.upload()"
      ],
      "metadata": {
        "colab": {
          "base_uri": "https://localhost:8080/",
          "height": 73
        },
        "id": "c3uVjYLkeh6s",
        "outputId": "55d89e81-3140-41b0-ae78-75efa6464670"
      },
      "execution_count": null,
      "outputs": [
        {
          "output_type": "display_data",
          "data": {
            "text/plain": [
              "<IPython.core.display.HTML object>"
            ],
            "text/html": [
              "\n",
              "     <input type=\"file\" id=\"files-082f5d79-c27e-4c42-9fd2-85f3ceb1039a\" name=\"files[]\" multiple disabled\n",
              "        style=\"border:none\" />\n",
              "     <output id=\"result-082f5d79-c27e-4c42-9fd2-85f3ceb1039a\">\n",
              "      Upload widget is only available when the cell has been executed in the\n",
              "      current browser session. Please rerun this cell to enable.\n",
              "      </output>\n",
              "      <script>// Copyright 2017 Google LLC\n",
              "//\n",
              "// Licensed under the Apache License, Version 2.0 (the \"License\");\n",
              "// you may not use this file except in compliance with the License.\n",
              "// You may obtain a copy of the License at\n",
              "//\n",
              "//      http://www.apache.org/licenses/LICENSE-2.0\n",
              "//\n",
              "// Unless required by applicable law or agreed to in writing, software\n",
              "// distributed under the License is distributed on an \"AS IS\" BASIS,\n",
              "// WITHOUT WARRANTIES OR CONDITIONS OF ANY KIND, either express or implied.\n",
              "// See the License for the specific language governing permissions and\n",
              "// limitations under the License.\n",
              "\n",
              "/**\n",
              " * @fileoverview Helpers for google.colab Python module.\n",
              " */\n",
              "(function(scope) {\n",
              "function span(text, styleAttributes = {}) {\n",
              "  const element = document.createElement('span');\n",
              "  element.textContent = text;\n",
              "  for (const key of Object.keys(styleAttributes)) {\n",
              "    element.style[key] = styleAttributes[key];\n",
              "  }\n",
              "  return element;\n",
              "}\n",
              "\n",
              "// Max number of bytes which will be uploaded at a time.\n",
              "const MAX_PAYLOAD_SIZE = 100 * 1024;\n",
              "\n",
              "function _uploadFiles(inputId, outputId) {\n",
              "  const steps = uploadFilesStep(inputId, outputId);\n",
              "  const outputElement = document.getElementById(outputId);\n",
              "  // Cache steps on the outputElement to make it available for the next call\n",
              "  // to uploadFilesContinue from Python.\n",
              "  outputElement.steps = steps;\n",
              "\n",
              "  return _uploadFilesContinue(outputId);\n",
              "}\n",
              "\n",
              "// This is roughly an async generator (not supported in the browser yet),\n",
              "// where there are multiple asynchronous steps and the Python side is going\n",
              "// to poll for completion of each step.\n",
              "// This uses a Promise to block the python side on completion of each step,\n",
              "// then passes the result of the previous step as the input to the next step.\n",
              "function _uploadFilesContinue(outputId) {\n",
              "  const outputElement = document.getElementById(outputId);\n",
              "  const steps = outputElement.steps;\n",
              "\n",
              "  const next = steps.next(outputElement.lastPromiseValue);\n",
              "  return Promise.resolve(next.value.promise).then((value) => {\n",
              "    // Cache the last promise value to make it available to the next\n",
              "    // step of the generator.\n",
              "    outputElement.lastPromiseValue = value;\n",
              "    return next.value.response;\n",
              "  });\n",
              "}\n",
              "\n",
              "/**\n",
              " * Generator function which is called between each async step of the upload\n",
              " * process.\n",
              " * @param {string} inputId Element ID of the input file picker element.\n",
              " * @param {string} outputId Element ID of the output display.\n",
              " * @return {!Iterable<!Object>} Iterable of next steps.\n",
              " */\n",
              "function* uploadFilesStep(inputId, outputId) {\n",
              "  const inputElement = document.getElementById(inputId);\n",
              "  inputElement.disabled = false;\n",
              "\n",
              "  const outputElement = document.getElementById(outputId);\n",
              "  outputElement.innerHTML = '';\n",
              "\n",
              "  const pickedPromise = new Promise((resolve) => {\n",
              "    inputElement.addEventListener('change', (e) => {\n",
              "      resolve(e.target.files);\n",
              "    });\n",
              "  });\n",
              "\n",
              "  const cancel = document.createElement('button');\n",
              "  inputElement.parentElement.appendChild(cancel);\n",
              "  cancel.textContent = 'Cancel upload';\n",
              "  const cancelPromise = new Promise((resolve) => {\n",
              "    cancel.onclick = () => {\n",
              "      resolve(null);\n",
              "    };\n",
              "  });\n",
              "\n",
              "  // Wait for the user to pick the files.\n",
              "  const files = yield {\n",
              "    promise: Promise.race([pickedPromise, cancelPromise]),\n",
              "    response: {\n",
              "      action: 'starting',\n",
              "    }\n",
              "  };\n",
              "\n",
              "  cancel.remove();\n",
              "\n",
              "  // Disable the input element since further picks are not allowed.\n",
              "  inputElement.disabled = true;\n",
              "\n",
              "  if (!files) {\n",
              "    return {\n",
              "      response: {\n",
              "        action: 'complete',\n",
              "      }\n",
              "    };\n",
              "  }\n",
              "\n",
              "  for (const file of files) {\n",
              "    const li = document.createElement('li');\n",
              "    li.append(span(file.name, {fontWeight: 'bold'}));\n",
              "    li.append(span(\n",
              "        `(${file.type || 'n/a'}) - ${file.size} bytes, ` +\n",
              "        `last modified: ${\n",
              "            file.lastModifiedDate ? file.lastModifiedDate.toLocaleDateString() :\n",
              "                                    'n/a'} - `));\n",
              "    const percent = span('0% done');\n",
              "    li.appendChild(percent);\n",
              "\n",
              "    outputElement.appendChild(li);\n",
              "\n",
              "    const fileDataPromise = new Promise((resolve) => {\n",
              "      const reader = new FileReader();\n",
              "      reader.onload = (e) => {\n",
              "        resolve(e.target.result);\n",
              "      };\n",
              "      reader.readAsArrayBuffer(file);\n",
              "    });\n",
              "    // Wait for the data to be ready.\n",
              "    let fileData = yield {\n",
              "      promise: fileDataPromise,\n",
              "      response: {\n",
              "        action: 'continue',\n",
              "      }\n",
              "    };\n",
              "\n",
              "    // Use a chunked sending to avoid message size limits. See b/62115660.\n",
              "    let position = 0;\n",
              "    do {\n",
              "      const length = Math.min(fileData.byteLength - position, MAX_PAYLOAD_SIZE);\n",
              "      const chunk = new Uint8Array(fileData, position, length);\n",
              "      position += length;\n",
              "\n",
              "      const base64 = btoa(String.fromCharCode.apply(null, chunk));\n",
              "      yield {\n",
              "        response: {\n",
              "          action: 'append',\n",
              "          file: file.name,\n",
              "          data: base64,\n",
              "        },\n",
              "      };\n",
              "\n",
              "      let percentDone = fileData.byteLength === 0 ?\n",
              "          100 :\n",
              "          Math.round((position / fileData.byteLength) * 100);\n",
              "      percent.textContent = `${percentDone}% done`;\n",
              "\n",
              "    } while (position < fileData.byteLength);\n",
              "  }\n",
              "\n",
              "  // All done.\n",
              "  yield {\n",
              "    response: {\n",
              "      action: 'complete',\n",
              "    }\n",
              "  };\n",
              "}\n",
              "\n",
              "scope.google = scope.google || {};\n",
              "scope.google.colab = scope.google.colab || {};\n",
              "scope.google.colab._files = {\n",
              "  _uploadFiles,\n",
              "  _uploadFilesContinue,\n",
              "};\n",
              "})(self);\n",
              "</script> "
            ]
          },
          "metadata": {}
        },
        {
          "output_type": "stream",
          "name": "stdout",
          "text": [
            "Saving ecommerce retail.xlsx to ecommerce retail.xlsx\n"
          ]
        }
      ]
    },
    {
      "cell_type": "markdown",
      "source": [
        "# Chuẩn bị data"
      ],
      "metadata": {
        "id": "bgW7y7kcpvmG"
      }
    },
    {
      "cell_type": "code",
      "source": [
        "file_path = 'ecommerce retail.xlsx'\n",
        "data = pd.read_excel(file_path)"
      ],
      "metadata": {
        "id": "S2PWe92qpxNC"
      },
      "execution_count": null,
      "outputs": []
    },
    {
      "cell_type": "code",
      "source": [
        "#segmentation_df = pd.read_excel(file_path, sheet_name='Segmentation')"
      ],
      "metadata": {
        "id": "PDSzsXiRSOXp"
      },
      "execution_count": null,
      "outputs": []
    },
    {
      "cell_type": "code",
      "source": [
        "data = data.dropna(subset=['CustomerID'])\n",
        "data['TotalPrice'] = data['Quantity'] * data['UnitPrice']"
      ],
      "metadata": {
        "colab": {
          "base_uri": "https://localhost:8080/"
        },
        "id": "Dr2tOddxrxK9",
        "outputId": "5505fa69-b58d-45bc-ad12-4a4aece9134c"
      },
      "execution_count": null,
      "outputs": [
        {
          "output_type": "stream",
          "name": "stderr",
          "text": [
            "<ipython-input-6-22c48e87a369>:2: SettingWithCopyWarning: \n",
            "A value is trying to be set on a copy of a slice from a DataFrame.\n",
            "Try using .loc[row_indexer,col_indexer] = value instead\n",
            "\n",
            "See the caveats in the documentation: https://pandas.pydata.org/pandas-docs/stable/user_guide/indexing.html#returning-a-view-versus-a-copy\n",
            "  data['TotalPrice'] = data['Quantity'] * data['UnitPrice']\n"
          ]
        }
      ]
    },
    {
      "cell_type": "markdown",
      "source": [
        "# Check missing data"
      ],
      "metadata": {
        "id": "FIJtbTp_DSlI"
      }
    },
    {
      "cell_type": "code",
      "source": [
        "missing_data_ecommerceretail = data.isnull().sum()\n",
        "print(\"Missing data in ecommerce_retail:\\n\", missing_data_ecommerceretail)\n"
      ],
      "metadata": {
        "colab": {
          "base_uri": "https://localhost:8080/"
        },
        "id": "U_z5UTJTDUYf",
        "outputId": "5e94d6bf-6013-44d3-f43f-8a3666fd5b85"
      },
      "execution_count": null,
      "outputs": [
        {
          "output_type": "stream",
          "name": "stdout",
          "text": [
            "Missing data in ecommerce_retail:\n",
            " InvoiceNo      0\n",
            "StockCode      0\n",
            "Description    0\n",
            "Quantity       0\n",
            "InvoiceDate    0\n",
            "UnitPrice      0\n",
            "CustomerID     0\n",
            "Country        0\n",
            "TotalPrice     0\n",
            "dtype: int64\n"
          ]
        }
      ]
    },
    {
      "cell_type": "markdown",
      "source": [
        "# Check duplicate"
      ],
      "metadata": {
        "id": "hnVLfH0BIYrv"
      }
    },
    {
      "cell_type": "code",
      "source": [
        "duplicate_ecommerceretail = data.duplicated().sum()\n",
        "print(\"Duplicate in ecommerce_retail:\", duplicate_ecommerceretail)"
      ],
      "metadata": {
        "colab": {
          "base_uri": "https://localhost:8080/"
        },
        "id": "r-5YKkNCIbpu",
        "outputId": "0583f316-9289-47e7-9c28-d70e9113596f"
      },
      "execution_count": null,
      "outputs": [
        {
          "output_type": "stream",
          "name": "stdout",
          "text": [
            "Duplicate in ecommerce_retail: 5225\n"
          ]
        }
      ]
    },
    {
      "cell_type": "markdown",
      "source": [
        "# Check incorrect data types"
      ],
      "metadata": {
        "id": "WD-Uy9hjIocq"
      }
    },
    {
      "cell_type": "code",
      "source": [
        "datatype_ecommerceretail = data.dtypes\n",
        "print(\"Data types in ecommerce_retail:\\n\", datatype_ecommerceretail)"
      ],
      "metadata": {
        "colab": {
          "base_uri": "https://localhost:8080/"
        },
        "id": "8cLJ_jsqIri8",
        "outputId": "71b097fd-f640-4798-a134-4c8c8c77fcac"
      },
      "execution_count": null,
      "outputs": [
        {
          "output_type": "stream",
          "name": "stdout",
          "text": [
            "Data types in ecommerce_retail:\n",
            " InvoiceNo              object\n",
            "StockCode              object\n",
            "Description            object\n",
            "Quantity                int64\n",
            "InvoiceDate    datetime64[ns]\n",
            "UnitPrice             float64\n",
            "CustomerID            float64\n",
            "Country                object\n",
            "TotalPrice            float64\n",
            "dtype: object\n"
          ]
        }
      ]
    },
    {
      "cell_type": "markdown",
      "source": [
        "# Summarize numerical data"
      ],
      "metadata": {
        "id": "rAIe-5HjI1pk"
      }
    },
    {
      "cell_type": "code",
      "source": [
        "summarize_ecommerceretail = data.describe()\n",
        "print(\"Summarize ecommerce_retail:\\n\", summarize_ecommerceretail)"
      ],
      "metadata": {
        "colab": {
          "base_uri": "https://localhost:8080/"
        },
        "id": "cAF0HNjYI231",
        "outputId": "45d56a0d-f755-4a5c-e932-3d251cacad5e"
      },
      "execution_count": null,
      "outputs": [
        {
          "output_type": "stream",
          "name": "stdout",
          "text": [
            "Summarize ecommerce_retail:\n",
            "             Quantity                    InvoiceDate      UnitPrice  \\\n",
            "count  406829.000000                         406829  406829.000000   \n",
            "mean       12.061303  2011-07-10 16:30:57.879207424       3.460471   \n",
            "min    -80995.000000            2010-12-01 08:26:00       0.000000   \n",
            "25%         2.000000            2011-04-06 15:02:00       1.250000   \n",
            "50%         5.000000            2011-07-31 11:48:00       1.950000   \n",
            "75%        12.000000            2011-10-20 13:06:00       3.750000   \n",
            "max     80995.000000            2011-12-09 12:50:00   38970.000000   \n",
            "std       248.693370                            NaN      69.315162   \n",
            "\n",
            "          CustomerID     TotalPrice  \n",
            "count  406829.000000  406829.000000  \n",
            "mean    15287.690570      20.401854  \n",
            "min     12346.000000 -168469.600000  \n",
            "25%     13953.000000       4.200000  \n",
            "50%     15152.000000      11.100000  \n",
            "75%     16791.000000      19.500000  \n",
            "max     18287.000000  168469.600000  \n",
            "std      1713.600303     427.591718  \n"
          ]
        }
      ]
    },
    {
      "cell_type": "markdown",
      "source": [
        "# Tính RFM"
      ],
      "metadata": {
        "id": "u3zD-ax6l3B_"
      }
    },
    {
      "cell_type": "code",
      "source": [
        "reference_date = dt.datetime(2011, 12, 10)\n",
        "\n",
        "rfm_data = data.groupby('CustomerID').agg({\n",
        "    'InvoiceDate': lambda x: (reference_date - x.max()).days,\n",
        "    'InvoiceNo': 'nunique',\n",
        "    'TotalPrice': 'sum'                                        #\n",
        "}).rename(columns={\n",
        "    'InvoiceDate': 'Recency',\n",
        "    'InvoiceNo': 'Frequency',\n",
        "    'TotalPrice': 'Monetary'\n",
        "}).reset_index()"
      ],
      "metadata": {
        "id": "pb7PusLwsE1b"
      },
      "execution_count": null,
      "outputs": []
    },
    {
      "cell_type": "markdown",
      "source": [
        "# Phân tích RFM\n"
      ],
      "metadata": {
        "id": "VrGo-Slet5z0"
      }
    },
    {
      "cell_type": "code",
      "source": [
        "\n",
        "rfm_data['R_Score'] = pd.qcut(rfm_data['Recency'], 5, labels=[5, 4, 3, 2, 1])\n",
        "rfm_data['F_Score'] = pd.qcut(rfm_data['Frequency'].rank(method=\"first\"), 5, labels=[1, 2, 3, 4, 5])\n",
        "rfm_data['M_Score'] = pd.qcut(rfm_data['Monetary'], 5, labels=[1, 2, 3, 4, 5])\n",
        "\n",
        "\n",
        "rfm_data['RFM_Score'] = rfm_data['R_Score'].astype(str) + rfm_data['F_Score'].astype(str) + rfm_data['M_Score'].astype(str)\n",
        "print(rfm_data.head())"
      ],
      "metadata": {
        "id": "raoQXEczsQwl",
        "colab": {
          "base_uri": "https://localhost:8080/"
        },
        "outputId": "35aa796b-43dd-4e13-9662-a79b67f31421"
      },
      "execution_count": null,
      "outputs": [
        {
          "output_type": "stream",
          "name": "stdout",
          "text": [
            "   CustomerID  Recency  Frequency  Monetary R_Score F_Score M_Score RFM_Score\n",
            "0     12346.0      325          2      0.00       1       2       1       121\n",
            "1     12347.0        2          7   4310.00       5       4       5       545\n",
            "2     12348.0       75          4   1797.24       2       3       4       234\n",
            "3     12349.0       18          1   1757.55       4       1       4       414\n",
            "4     12350.0      310          1    334.40       1       1       2       112\n"
          ]
        }
      ]
    },
    {
      "cell_type": "markdown",
      "source": [
        "# Loại bỏ khoảng trống và check unique"
      ],
      "metadata": {
        "id": "YFM0A7BWEta9"
      }
    },
    {
      "cell_type": "markdown",
      "source": [
        "Đoạn này em bị fail khi check và merge với sheet Segmentation, Coach check và hướng dẫn em cách sửa với ạ"
      ],
      "metadata": {
        "id": "JE9BGJFHEy_7"
      }
    },
    {
      "cell_type": "code",
      "source": [
        "rfm_data['RFM_Score'] = rfm_data['RFM_Score'].str.split(',')\n",
        "rfm_data = rfm_data.explode('RFM_Score').reset_index(drop=True)\n",
        "print(rfm_data.head())"
      ],
      "metadata": {
        "colab": {
          "base_uri": "https://localhost:8080/",
          "height": 176
        },
        "id": "Io6cxwv2xdLF",
        "outputId": "4e472aec-33e0-447f-bd82-f869ed79e810"
      },
      "execution_count": null,
      "outputs": [
        {
          "output_type": "error",
          "ename": "NameError",
          "evalue": "name 'rfm_data' is not defined",
          "traceback": [
            "\u001b[0;31m---------------------------------------------------------------------------\u001b[0m",
            "\u001b[0;31mNameError\u001b[0m                                 Traceback (most recent call last)",
            "\u001b[0;32m<ipython-input-1-b688c4cd4ff4>\u001b[0m in \u001b[0;36m<cell line: 1>\u001b[0;34m()\u001b[0m\n\u001b[0;32m----> 1\u001b[0;31m \u001b[0mrfm_data\u001b[0m\u001b[0;34m[\u001b[0m\u001b[0;34m'RFM_Score'\u001b[0m\u001b[0;34m]\u001b[0m \u001b[0;34m=\u001b[0m \u001b[0mrfm_data\u001b[0m\u001b[0;34m[\u001b[0m\u001b[0;34m'RFM_Score'\u001b[0m\u001b[0;34m]\u001b[0m\u001b[0;34m.\u001b[0m\u001b[0mstr\u001b[0m\u001b[0;34m.\u001b[0m\u001b[0msplit\u001b[0m\u001b[0;34m(\u001b[0m\u001b[0;34m','\u001b[0m\u001b[0;34m)\u001b[0m\u001b[0;34m\u001b[0m\u001b[0;34m\u001b[0m\u001b[0m\n\u001b[0m\u001b[1;32m      2\u001b[0m \u001b[0mrfm_data\u001b[0m \u001b[0;34m=\u001b[0m \u001b[0mrfm_data\u001b[0m\u001b[0;34m.\u001b[0m\u001b[0mexplode\u001b[0m\u001b[0;34m(\u001b[0m\u001b[0;34m'RFM_Score'\u001b[0m\u001b[0;34m)\u001b[0m\u001b[0;34m.\u001b[0m\u001b[0mreset_index\u001b[0m\u001b[0;34m(\u001b[0m\u001b[0mdrop\u001b[0m\u001b[0;34m=\u001b[0m\u001b[0;32mTrue\u001b[0m\u001b[0;34m)\u001b[0m\u001b[0;34m\u001b[0m\u001b[0;34m\u001b[0m\u001b[0m\n\u001b[1;32m      3\u001b[0m \u001b[0mprint\u001b[0m\u001b[0;34m(\u001b[0m\u001b[0mrfm_data\u001b[0m\u001b[0;34m.\u001b[0m\u001b[0mhead\u001b[0m\u001b[0;34m(\u001b[0m\u001b[0;34m)\u001b[0m\u001b[0;34m)\u001b[0m\u001b[0;34m\u001b[0m\u001b[0;34m\u001b[0m\u001b[0m\n",
            "\u001b[0;31mNameError\u001b[0m: name 'rfm_data' is not defined"
          ]
        }
      ]
    },
    {
      "cell_type": "code",
      "source": [
        " rfm_data['RFM_Score'] = rfm_data['RFM_Score'].astype(str).str.strip()\n",
        "segmentation_df['RFM Score'] = segmentation_df['RFM Score'].astype(str).str.strip()"
      ],
      "metadata": {
        "id": "mlbfS1BsWUwi"
      },
      "execution_count": null,
      "outputs": []
    },
    {
      "cell_type": "code",
      "source": [
        "print(rfm_data['RFM_Score'].unique())\n",
        "print(segmentation_df['RFM Score'].unique())"
      ],
      "metadata": {
        "colab": {
          "base_uri": "https://localhost:8080/"
        },
        "id": "acUt5LzJWac-",
        "outputId": "71088c51-f020-4f4f-c5e4-3753d14f0fab"
      },
      "execution_count": null,
      "outputs": [
        {
          "output_type": "stream",
          "name": "stdout",
          "text": [
            "['121' '545' '234' '414' '112' '354' '111' '114' '435' '315' '524' '335'\n",
            " '555' '223' '534' '132' '511' '324' '334' '413' '532' '124' '215' '233'\n",
            " '445' '544' '144' '433' '122' '213' '412' '244' '455' '325' '314' '322'\n",
            " '214' '344' '355' '245' '133' '343' '313' '443' '554' '224' '113' '543'\n",
            " '312' '345' '243' '225' '425' '411' '221' '432' '321' '533' '513' '232'\n",
            " '125' '441' '422' '434' '211' '323' '521' '222' '311' '123' '421' '423'\n",
            " '135' '444' '143' '212' '512' '523' '424' '145' '522' '131' '535' '333'\n",
            " '142' '254' '332' '342' '242' '542' '255' '442' '231' '541' '155' '454'\n",
            " '235' '115' '241' '453' '134' '253' '331' '141' '154' '525' '553' '353'\n",
            " '531' '431' '552' '152' '515' '252' '153' '251' '341' '551']\n",
            "['555, 554, 544, 545, 454, 455, 445'\n",
            " '543, 444, 435, 355, 354, 345, 344, 335'\n",
            " '553, 551, 552, 541, 542, 533, 532, 531, 452, 451, 442, 441, 431, 453, 433, 432, 423, 353, 352, 351, 342, 341, 333, 323'\n",
            " '512, 511, 422, 421, 412, 411, 311'\n",
            " '525, 524, 523, 522, 521, 515, 514, 513, 425,424, 413,414,415, 315, 314, 313'\n",
            " '535, 534, 443, 434, 343, 334, 325, 324'\n",
            " '331, 321, 312, 221, 213, 231, 241, 251'\n",
            " '255, 254, 245, 244, 253, 252, 243, 242, 235, 234, 225, 224, 153, 152, 145, 143, 142, 135, 134, 133, 125, 124'\n",
            " '155, 154, 144, 214,215,115, 114, 113'\n",
            " '332, 322, 233, 232, 223, 222, 132, 123, 122, 212, 211'\n",
            " '111, 112, 121, 131,141,151']\n"
          ]
        }
      ]
    },
    {
      "cell_type": "markdown",
      "source": [
        "# merge với segmentation và cho ra kết quả"
      ],
      "metadata": {
        "id": "e_xBH5ZdOqLJ"
      }
    },
    {
      "cell_type": "markdown",
      "source": [
        "Đoạn này em bị fail khi check và merge với sheet Segmentation, Coach check và hướng dẫn em cách sửa với ạ"
      ],
      "metadata": {
        "id": "RCE5qzJWFAOl"
      }
    },
    {
      "cell_type": "code",
      "source": [
        "rfm_data_merge = pd.merge(rfm_data, segmentation_df, on='RFM Score', how='left', suffixes=('_rfm', '_seg'))\n",
        "print(rfm_data_merge.head())"
      ],
      "metadata": {
        "colab": {
          "base_uri": "https://localhost:8080/"
        },
        "id": "PejMbzjNUgkm",
        "outputId": "b50aad7f-7bd9-4ce4-9d3d-476aba2e0763"
      },
      "execution_count": null,
      "outputs": [
        {
          "output_type": "stream",
          "name": "stdout",
          "text": [
            "   CustomerID  Recency  Frequency  Monetary R_Score F_Score M_Score RFM_Score  \\\n",
            "0     12346.0      325          2      0.00       1       2       1       121   \n",
            "1     12347.0        2          7   4310.00       5       4       5       545   \n",
            "2     12348.0       75          4   1797.24       2       3       4       234   \n",
            "3     12349.0       18          1   1757.55       4       1       4       414   \n",
            "4     12350.0      310          1    334.40       1       1       2       112   \n",
            "\n",
            "  RFM Score Segment_x Segment_y Segment_rfm Segment_seg  \n",
            "0       121       NaN       NaN         NaN         NaN  \n",
            "1       545       NaN       NaN         NaN         NaN  \n",
            "2       234       NaN       NaN         NaN         NaN  \n",
            "3       414       NaN       NaN         NaN         NaN  \n",
            "4       112       NaN       NaN         NaN         NaN  \n"
          ]
        }
      ]
    },
    {
      "cell_type": "code",
      "source": [
        "def get_customer_segment(rfm_score):\n",
        "\n",
        "    score = str(rfm_score)\n",
        "\n",
        "\n",
        "    if score in ['555', '554', '544', '545', '454', '455', '445']:\n",
        "        return \"Champions\"\n",
        "    elif score in ['543', '444', '435', '355', '354', '345', '344', '335']:\n",
        "        return \"Loyal\"\n",
        "    elif score in ['553', '551', '552', '541', '542', '533', '532', '531',\n",
        "                   '452', '451', '442', '441', '431', '453', '433', '423',\n",
        "                   '353', '352', '351', '342', '341', '333', '323']:\n",
        "        return \"Potential Loyalist\"\n",
        "    elif score in ['512', '511', '422', '421', '412', '411', '311']:\n",
        "        return \"New Customers\"\n",
        "    elif score in ['525', '524', '523', '522', '521', '515', '514', '513',\n",
        "                   '425', '424', '413', '414', '415', '315', '314', '313']:\n",
        "        return \"Promising\"\n",
        "    elif score in ['535', '534', '443', '434', '343', '344', '325', '324']:\n",
        "        return \"Need Attention\"\n",
        "    elif score in ['331', '321', '312', '221', '213', '231', '241', '251']:\n",
        "        return \"About To Sleep\"\n",
        "    elif score in ['255', '254', '245', '244', '253', '252', '243', '242',\n",
        "                   '235', '234', '225', '224', '153', '152', '145', '143',\n",
        "                   '142', '135', '134', '133', '125', '124']:\n",
        "        return \"At Risk\"\n",
        "    elif score in ['155', '154', '144', '214', '215', '115', '114', '113']:\n",
        "        return \"Cannot Lose Them\"\n",
        "    elif score in ['332', '322', '233', '232', '223', '222', '132', '123',\n",
        "                   '122', '212', '211']:\n",
        "        return \"Hibernating customers\"\n",
        "    elif score in ['111', '112', '121', '131', '141', '151']:\n",
        "        return \"Lost customers\"\n",
        "    else:\n",
        "        return \"Unknown Segment\"\n",
        "\n",
        "\n"
      ],
      "metadata": {
        "id": "As_uXegzBjAJ"
      },
      "execution_count": null,
      "outputs": []
    },
    {
      "cell_type": "code",
      "source": [
        "rfm_data['Segment'] = rfm_data['RFM_Score'].apply(get_customer_segment)\n",
        "print(rfm_data.head())"
      ],
      "metadata": {
        "colab": {
          "base_uri": "https://localhost:8080/"
        },
        "id": "PYP6atERDeTp",
        "outputId": "ae174343-0cce-4955-d05c-036488afd45b"
      },
      "execution_count": null,
      "outputs": [
        {
          "output_type": "stream",
          "name": "stdout",
          "text": [
            "   CustomerID  Recency  Frequency  Monetary R_Score F_Score M_Score RFM_Score  \\\n",
            "0     12346.0      325          2      0.00       1       2       1       121   \n",
            "1     12347.0        2          7   4310.00       5       4       5       545   \n",
            "2     12348.0       75          4   1797.24       2       3       4       234   \n",
            "3     12349.0       18          1   1757.55       4       1       4       414   \n",
            "4     12350.0      310          1    334.40       1       1       2       112   \n",
            "\n",
            "        Segment_x         Segment  \n",
            "0  Lost customers  Lost customers  \n",
            "1       Champions       Champions  \n",
            "2         At Risk         At Risk  \n",
            "3       Promising       Promising  \n",
            "4  Lost customers  Lost customers  \n"
          ]
        }
      ]
    },
    {
      "cell_type": "markdown",
      "source": [
        "# 2 Visualize\n"
      ],
      "metadata": {
        "id": "ZJQy_wspX0st"
      }
    },
    {
      "cell_type": "markdown",
      "source": [
        "# đếm số lượng"
      ],
      "metadata": {
        "id": "xxei79VYX3xp"
      }
    },
    {
      "cell_type": "code",
      "source": [
        "segment_counts = rfm_data['Segment'].value_counts()\n",
        "print(segment_counts)"
      ],
      "metadata": {
        "colab": {
          "base_uri": "https://localhost:8080/"
        },
        "id": "R8pRg7W1X5vr",
        "outputId": "1ff85a2e-0ba1-4ad3-a46f-2af5c8b06d45"
      },
      "execution_count": null,
      "outputs": [
        {
          "output_type": "stream",
          "name": "stdout",
          "text": [
            "Segment\n",
            "Champions                865\n",
            "Hibernating customers    714\n",
            "Lost customers           488\n",
            "Loyal                    432\n",
            "At Risk                  405\n",
            "Potential Loyalist       378\n",
            "About To Sleep           277\n",
            "New Customers            269\n",
            "Need Attention           219\n",
            "Promising                137\n",
            "Cannot Lose Them          98\n",
            "Unknown Segment           90\n",
            "Name: count, dtype: int64\n"
          ]
        }
      ]
    },
    {
      "cell_type": "markdown",
      "source": [
        "# vẽ biểu đồ cột\n"
      ],
      "metadata": {
        "id": "YZEMLonBYH9J"
      }
    },
    {
      "cell_type": "code",
      "source": [
        "plt.figure(figsize=(20, 10))\n",
        "sns.barplot(x=segment_counts.index, y=segment_counts.values)\n",
        "plt.title('Number of Customers per Segment')\n",
        "plt.xlabel('Segment')\n",
        "plt.ylabel('Number of Customers')\n",
        "plt.show()"
      ],
      "metadata": {
        "colab": {
          "base_uri": "https://localhost:8080/",
          "height": 872
        },
        "id": "ItVCLgdZYJpo",
        "outputId": "72cdc9dd-153f-4eae-94fa-7380add298cc"
      },
      "execution_count": null,
      "outputs": [
        {
          "output_type": "display_data",
          "data": {
            "text/plain": [
              "<Figure size 2000x1000 with 1 Axes>"
            ],
            "image/png": "[encoded data removed]"
          },
          "metadata": {}
        }
      ]
    },
    {
      "cell_type": "markdown",
      "source": [
        "# Vẽ biểu đồ tròn"
      ],
      "metadata": {
        "id": "asoC3FUhENlC"
      }
    },
    {
      "cell_type": "code",
      "source": [
        "plt.figure(figsize=(10, 10))\n",
        "plt.pie(segment_counts, labels=segment_counts.index, autopct='%1.1f%%', startangle=140, colors=sns.color_palette(\"viridis\", len(segment_counts)))\n",
        "plt.title('Percentage of Customers per Segment')\n",
        "plt.show()"
      ],
      "metadata": {
        "colab": {
          "base_uri": "https://localhost:8080/",
          "height": 829
        },
        "id": "tWkC2eusESg3",
        "outputId": "a176aab3-72f0-4481-a2b3-8ee813a535e6"
      },
      "execution_count": null,
      "outputs": [
        {
          "output_type": "display_data",
          "data": {
            "text/plain": [
              "<Figure size 1000x1000 with 1 Axes>"
            ],
            "image/png": "[encoded data removed]"
          },
          "metadata": {}
        }
      ]
    },
    {
      "cell_type": "markdown",
      "source": [
        "# Phân tích hiện trạng"
      ],
      "metadata": {
        "id": "PKPanJPVFT1f"
      }
    },
    {
      "cell_type": "markdown",
      "source": [
        "1. Nhóm khách hàng 'Champions'\n",
        "- Là nhóm khách hàng cao cấp nhất, cũng chiếm tỉ lệ nhiều nhất lên đến 19,8%.\n",
        "- Nhóm khách hàng này hội tụ đủ các yếu tố như thời gian mua hàng, tần suất mua hàng cũng như giá trị đơn hàng lớn\n",
        "- Nhóm khách hàng này có thể được xem như nguồn doanh thu lớn nhất của công ty\n",
        "- Nên được giữ vững"
      ],
      "metadata": {
        "id": "ipzWYdxRG6aO"
      }
    },
    {
      "cell_type": "markdown",
      "source": [
        "2. Nhóm At risk và need attention\n",
        "- Nhóm này còn chiếm số lượng khá thấp\n",
        "- Để đánh giá thì họ có tiềm năng trở thành khách hàng thân thiết, hoặc khách hàng ngừng mua sắm\n",
        "- Nhóm khách hàng này cần một cái gì đó từ phía cửa hàng như chương trình khuyến mãi, sale sốc, sản phẩm phù hợp với nhu cầu của họ nhiều hơn\n",
        "- Cần đánh đúng tâm lý mua hàng của nhóm này mới có thể kích cầu mua sắm từ họ\n"
      ],
      "metadata": {
        "id": "uHdhA__aHrBD"
      }
    },
    {
      "cell_type": "markdown",
      "source": [
        "3. Nhóm new customer và potential loyalist\n",
        "\n",
        "- Nhóm khách hàng mới và trung thành tiềm năng này chiếm 1 phần kha khá\n",
        "- Có tiềm năng trở thành khách hàng champions\n",
        "- Cần tăng cường các chiến dịch khuyến mãi, sale sốc\n",
        "- Tăng cường chăm sóc\n",
        "- Từ đó thúc đẩy họ thành các khách hàng trung thành hoặc Champions"
      ],
      "metadata": {
        "id": "EPBceBUfJwKB"
      }
    },
    {
      "cell_type": "markdown",
      "source": [
        "# Nên tập trung vào chỉ số nào trong 3 chỉ số R, F, M"
      ],
      "metadata": {
        "id": "B82dybtuLJxF"
      }
    },
    {
      "cell_type": "markdown",
      "source": [
        "- Team Marketing cần tập trung vào nhóm At risk và need attention. Nhóm này chiếm cũng kha khá, tuy nhiên rất dễ mất họ. Cần triển khai chương trình giảm giá nào đó, nhắm thẳng vào họ để kích cầu mua sắm\n",
        "\n",
        "- Team Sale cần tập trung thẳng vào nhóm champions và loyal. Nhằm để kích cầu mua sắm từ 2 nhóm đó cần khuyến khích gia tăng giá trị đơn hàng đạt ngưỡng bao nhiêu sẽ nhận được ưu đãi từ chương trình hoặc những phần quà hấp dẫn."
      ],
      "metadata": {
        "id": "nLchDAG6LRYy"
      }
    }
  ]
}